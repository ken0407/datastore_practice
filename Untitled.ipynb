{
 "cells": [
  {
   "cell_type": "code",
   "execution_count": 39,
   "metadata": {},
   "outputs": [
    {
     "name": "stderr",
     "output_type": "stream",
     "text": [
      "/Users/ishiikentarou/Documents/datastore_practice/venv/lib/python3.8/site-packages/google/auth/_default.py:69: UserWarning: Your application has authenticated using end user credentials from Google Cloud SDK without a quota project. You might receive a \"quota exceeded\" or \"API not enabled\" error. We recommend you rerun `gcloud auth application-default login` and make sure a quota project is added. Or you can use service accounts instead. For more information about service accounts, see https://cloud.google.com/docs/authentication/\n",
      "  warnings.warn(_CLOUD_SDK_CREDENTIALS_WARNING)\n"
     ]
    }
   ],
   "source": [
    "from google.cloud import ndb\n",
    "import string\n",
    "\n",
    "def randomname(n):\n",
    "    randlst = [random.choice(string.ascii_letters + string.digits) for i in range(n)]\n",
    "    return ''.join(randlst)\n",
    "\n",
    "class StudentModel(ndb.Model):\n",
    "    name = ndb.StringProperty(required=True)\n",
    "    age = ndb.IntegerProperty(required=True)\n",
    "    grade = ndb.IntegerProperty(required=True)\n",
    "    class_num = ndb.IntegerProperty(required=True)\n",
    "    created = ndb.DateTimeProperty(auto_now_add=True)\n",
    "    \n",
    "client = ndb.Client(project='kaggle-251204', namespace='develop')\n",
    "with client.context():\n",
    "    key = ndb.Key(\"StudentModel\", randomname(15))\n",
    "    entity = StudentModel(key=key, name='John', age=13, grade=6, class_num=12)\n",
    "    entity.put()"
   ]
  },
  {
   "cell_type": "code",
   "execution_count": 40,
   "metadata": {},
   "outputs": [],
   "source": [
    "with client.context():\n",
    "    key = ndb.Key(\"StudentModel\", randomname(15))\n",
    "    entity = StudentModel(key=key, name='Tom', age=11, grade=5, class_num=3)\n",
    "    entity.put()"
   ]
  },
  {
   "cell_type": "code",
   "execution_count": 41,
   "metadata": {},
   "outputs": [],
   "source": [
    "with client.context():\n",
    "    key = ndb.Key(\"StudentModel\", randomname(15))\n",
    "    entity = StudentModel(key=key, name='Mary', age=8, grade=7, class_num=3)\n",
    "    entity.put()"
   ]
  },
  {
   "cell_type": "code",
   "execution_count": null,
   "metadata": {},
   "outputs": [],
   "source": []
  }
 ],
 "metadata": {
  "kernelspec": {
   "display_name": "Python 3",
   "language": "python",
   "name": "python3"
  },
  "language_info": {
   "codemirror_mode": {
    "name": "ipython",
    "version": 3
   },
   "file_extension": ".py",
   "mimetype": "text/x-python",
   "name": "python",
   "nbconvert_exporter": "python",
   "pygments_lexer": "ipython3",
   "version": "3.8.0"
  }
 },
 "nbformat": 4,
 "nbformat_minor": 4
}
